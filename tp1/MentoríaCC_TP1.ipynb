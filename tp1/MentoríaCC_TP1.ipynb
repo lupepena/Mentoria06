{
  "cells": [
    {
      "cell_type": "markdown",
      "metadata": {
        "id": "MK0LiTNFTr6L"
      },
      "source": [
        "\n",
        "#MENTORÍA 07\n",
        "#**Cambio climático y ML: cómo mitigar las emisiones de CO2 mediante la reducción del consumo energético en construcciones edilicias**\n",
        "\n",
        "**TP N°1: Análisis y visualización**\n",
        "\n",
        "Fecha de entrega: **viernes 1 de julio**"
      ]
    },
    {
      "cell_type": "markdown",
      "metadata": {
        "id": "aan8fCrtVbxx"
      },
      "source": [
        "##Consignas generales\n",
        "Les propongo la elaboración de un informe que deberá apuntar a un público técnico, pero sin conocimientos específicos en el tema. Añadir gráficos y conclusiones obtenidas durante el desarrollo del práctico.\n",
        "\n",
        "\n",
        "Algunas recomendaciones:\n",
        "- Utilizar celdas de texto, que servirán para fundamentar sus decisiones, intercaladas con celdas de código, donde verterán el código implementado. No se recomienda utilizar comillas entre el código para explicar las tomas de decisión.\n",
        "- En la primera celda de código deberían importar todas las librerías que van a utilizar en todo el trabajo práctico.\n",
        "- Es super recomendable segmentar el trabajo en tópicos o tareas.\n",
        "\n",
        "\n"
      ]
    },
    {
      "cell_type": "markdown",
      "metadata": {
        "id": "yqEN9rZpfMSl"
      },
      "source": [
        "## Análisis descriptivo\n",
        "\n",
        "Entender qué tipos de features poseen los dataset, qué significan y cómo se relacionan entre ellos.\n",
        "- ¿Cuántos datos tiene mi data set?\n",
        "- ¿Cuántas features tengo? ¿De qué tipo son? \n",
        "- ¿A cuáles les deberé aplicar alguna transformación?  \n",
        "- ¿Cuál es mi variable target? ¿Qué significa?\n",
        "- ¿Todas las features aportan información diferente? \n",
        "- ¿Existen datos faltantes? ¿Qué me convendrá hacer con ellos?"
      ]
    },
    {
      "cell_type": "markdown",
      "metadata": {
        "id": "JmE_Ki1wgss2"
      },
      "source": [
        "##Análisis estadístico\n",
        "\n",
        "Seleccionar algunos features que crean relevantes para el problema. Utilizar los gráficos y cálculos que le parezcan más apropiados para llegar a las conclusiones. \n",
        "\n",
        "- ¿Qué herramienta/s es/son la/s más adeduada/s para seleccionar features de interés? ¿Cuál es el criterio para realizar dicha selección?\n",
        "- ¿Existen outliers para estos features?\n",
        "- ¿Hay valores faltantes?\n",
        "- ¿Hay valores que no corresponden?\n",
        "- ¿Que decisión tomarían para completar o eliminar estos outliers y faltantes?\n",
        "- ¿Cómo es la distribución de las variables en el dataset?\n",
        "- ¿Existe correlación entre algunas de las variables?"
      ]
    },
    {
      "cell_type": "code",
      "execution_count": 3,
      "metadata": {},
      "outputs": [],
      "source": [
        "# Importamos librerias a utilizar\n",
        "import matplotlib.pyplot as plt\n",
        "import numpy as np\n",
        "import pandas as pd\n",
        "import seaborn as sns"
      ]
    },
    {
      "cell_type": "code",
      "execution_count": 4,
      "metadata": {},
      "outputs": [],
      "source": [
        "#Llamamos a los datos del github para ver de que tratan\n",
        "url = 'https://raw.githubusercontent.com/lupepena/Cambio-climatico-y-ML/main/archivo_reducido.csv'\n",
        "df = pd.read_csv(url)"
      ]
    },
    {
      "cell_type": "code",
      "execution_count": 7,
      "metadata": {},
      "outputs": [
        {
          "name": "stdout",
          "output_type": "stream",
          "text": [
            "<class 'pandas.core.frame.DataFrame'>\n",
            "RangeIndex: 10000 entries, 0 to 9999\n",
            "Data columns (total 64 columns):\n",
            " #   Column                     Non-Null Count  Dtype  \n",
            "---  ------                     --------------  -----  \n",
            " 0   Year_Factor                10000 non-null  int64  \n",
            " 1   State_Factor               10000 non-null  object \n",
            " 2   building_class             10000 non-null  object \n",
            " 3   facility_type              10000 non-null  object \n",
            " 4   floor_area                 10000 non-null  float64\n",
            " 5   year_built                 9025 non-null   float64\n",
            " 6   energy_star_rating         7021 non-null   float64\n",
            " 7   ELEVATION                  10000 non-null  float64\n",
            " 8   january_min_temp           10000 non-null  int64  \n",
            " 9   january_avg_temp           10000 non-null  float64\n",
            " 10  january_max_temp           10000 non-null  int64  \n",
            " 11  february_min_temp          10000 non-null  int64  \n",
            " 12  february_avg_temp          10000 non-null  float64\n",
            " 13  february_max_temp          10000 non-null  int64  \n",
            " 14  march_min_temp             10000 non-null  int64  \n",
            " 15  march_avg_temp             10000 non-null  float64\n",
            " 16  march_max_temp             10000 non-null  int64  \n",
            " 17  april_min_temp             10000 non-null  int64  \n",
            " 18  april_avg_temp             10000 non-null  float64\n",
            " 19  april_max_temp             10000 non-null  int64  \n",
            " 20  may_min_temp               10000 non-null  int64  \n",
            " 21  may_avg_temp               10000 non-null  float64\n",
            " 22  may_max_temp               10000 non-null  int64  \n",
            " 23  june_min_temp              10000 non-null  int64  \n",
            " 24  june_avg_temp              10000 non-null  float64\n",
            " 25  june_max_temp              10000 non-null  int64  \n",
            " 26  july_min_temp              10000 non-null  int64  \n",
            " 27  july_avg_temp              10000 non-null  float64\n",
            " 28  july_max_temp              10000 non-null  int64  \n",
            " 29  august_min_temp            10000 non-null  int64  \n",
            " 30  august_avg_temp            10000 non-null  float64\n",
            " 31  august_max_temp            10000 non-null  int64  \n",
            " 32  september_min_temp         10000 non-null  int64  \n",
            " 33  september_avg_temp         10000 non-null  float64\n",
            " 34  september_max_temp         10000 non-null  int64  \n",
            " 35  october_min_temp           10000 non-null  int64  \n",
            " 36  october_avg_temp           10000 non-null  float64\n",
            " 37  october_max_temp           10000 non-null  int64  \n",
            " 38  november_min_temp          10000 non-null  int64  \n",
            " 39  november_avg_temp          10000 non-null  float64\n",
            " 40  november_max_temp          10000 non-null  int64  \n",
            " 41  december_min_temp          10000 non-null  int64  \n",
            " 42  december_avg_temp          10000 non-null  float64\n",
            " 43  december_max_temp          10000 non-null  int64  \n",
            " 44  cooling_degree_days        10000 non-null  int64  \n",
            " 45  heating_degree_days        10000 non-null  int64  \n",
            " 46  precipitation_inches       10000 non-null  float64\n",
            " 47  snowfall_inches            10000 non-null  float64\n",
            " 48  snowdepth_inches           10000 non-null  int64  \n",
            " 49  avg_temp                   10000 non-null  float64\n",
            " 50  days_below_30F             10000 non-null  int64  \n",
            " 51  days_below_20F             10000 non-null  int64  \n",
            " 52  days_below_10F             10000 non-null  int64  \n",
            " 53  days_below_0F              10000 non-null  int64  \n",
            " 54  days_above_80F             10000 non-null  int64  \n",
            " 55  days_above_90F             10000 non-null  int64  \n",
            " 56  days_above_100F            10000 non-null  int64  \n",
            " 57  days_above_110F            10000 non-null  int64  \n",
            " 58  direction_max_wind_speed   1121 non-null   float64\n",
            " 59  direction_peak_wind_speed  1083 non-null   float64\n",
            " 60  max_wind_speed             1121 non-null   float64\n",
            " 61  days_with_fog              1045 non-null   float64\n",
            " 62  site_eui                   10000 non-null  float64\n",
            " 63  id                         10000 non-null  int64  \n",
            "dtypes: float64(24), int64(37), object(3)\n",
            "memory usage: 4.9+ MB\n"
          ]
        }
      ],
      "source": [
        "df.info()"
      ]
    },
    {
      "cell_type": "markdown",
      "metadata": {},
      "source": [
        "## Análisis descriptivo\n",
        "\n",
        "Entender qué tipos de features poseen los dataset, qué significan y cómo se relacionan entre ellos.\n",
        "- ¿Cuántos datos tiene mi data set?\n",
        "- ¿Cuántas features tengo? ¿De qué tipo son? \n",
        "- ¿A cuáles les deberé aplicar alguna transformación?  \n",
        "- ¿Cuál es mi variable target? ¿Qué significa?\n",
        "- ¿Todas las features aportan información diferente? \n",
        "- ¿Existen datos faltantes? ¿Qué me convendrá hacer con ellos?"
      ]
    }
  ],
  "metadata": {
    "colab": {
      "provenance": []
    },
    "kernelspec": {
      "display_name": "Python 3",
      "name": "python3"
    },
    "language_info": {
      "codemirror_mode": {
        "name": "ipython",
        "version": 3
      },
      "file_extension": ".py",
      "mimetype": "text/x-python",
      "name": "python",
      "nbconvert_exporter": "python",
      "pygments_lexer": "ipython3",
      "version": "3.9.12"
    }
  },
  "nbformat": 4,
  "nbformat_minor": 0
}
